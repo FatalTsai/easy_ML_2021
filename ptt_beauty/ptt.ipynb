{
 "cells": [
  {
   "cell_type": "code",
   "execution_count": 1,
   "metadata": {
    "execution": {
     "iopub.execute_input": "2021-11-14T19:52:02.202663Z",
     "iopub.status.busy": "2021-11-14T19:52:02.201662Z",
     "iopub.status.idle": "2021-11-14T19:52:02.432874Z",
     "shell.execute_reply": "2021-11-14T19:52:02.432874Z"
    }
   },
   "outputs": [
    {
     "name": "stdout",
     "output_type": "stream",
     "text": [
      "<http.client.HTTPResponse object at 0x000002E294C96160>\n"
     ]
    }
   ],
   "source": [
    "\n",
    "\n",
    "import re\n",
    "import http.client\n",
    "import time\n",
    "\n",
    "conn = http.client.HTTPSConnection(\"www.ptt.cc\")\n",
    "payload = ''\n",
    "headers = {\n",
    "  'cookie': 'over18=1; __cf_bm=lYwo.dvfpkTzgrp8OTgNUuxCDiAvDUtpTTWAzSe6j8U-1636902959-0-Af7hIyc6GOO59bPZsJ/KVKqUDEJsi7i4XRNv6r/VnlXB1WCfLvPsvQPWrHwSN2G2KGr5oExJ6C7RSKZTB7eQS70='\n",
    "}\n",
    "conn.request(\"GET\", \"/bbs/Beauty/index.html?=\", payload, headers)\n",
    "res = conn.getresponse()\n",
    "# print(data.decode(\"utf-8\"))\n",
    "\n",
    "lastBulletin = int(re.search(r\"<a class=\\\"btn wide\\\" href=\\\"/bbs/Beauty/index(\\d+)\\.html\\\">&lsaquo; 上頁</a>\",res.read().decode(\"utf-8\")).group(1))+1"
   ]
  },
  {
   "cell_type": "code",
   "execution_count": 2,
   "metadata": {
    "execution": {
     "iopub.execute_input": "2021-11-14T19:52:02.436874Z",
     "iopub.status.busy": "2021-11-14T19:52:02.436874Z",
     "iopub.status.idle": "2021-11-14T19:52:02.448578Z",
     "shell.execute_reply": "2021-11-14T19:52:02.447576Z"
    }
   },
   "outputs": [],
   "source": [
    "\n",
    "def fetchPage(paath):\n",
    "    conn.request(\"GET\", paath, payload, headers)\n",
    "    res = conn.getresponse()\n",
    "    raw = res.read().decode(\"utf-8\")\n",
    "    \n",
    "    # print(\"push count :\",raw.count('class=\"hl push-tag\">推'))\n",
    "    push_cnt = raw.count('class=\"hl push-tag\">推')\n",
    "    # print(\"pull count :\",raw.count('class=\"f1 hl push-tag\">噓'))\n",
    "    pull_cnt = raw.count('class=\"f1 hl push-tag\">噓')\n",
    "\n",
    "    # print(\"author:\",re.search(r\"<span class=\\\"article-meta-tag\\\">作者<\\/span><span class=\\\"article-meta-value\\\">(.*)<\\/span><\\/div><div\\sclass=\\\"article-metaline-right\\\"\", raw).group(1))\n",
    "    author = re.search(r\"<span class=\\\"article-meta-tag\\\">作者<\\/span><span class=\\\"article-meta-value\\\">(.*)<\\/span><\\/div><div\\sclass=\\\"article-metaline-right\\\"\", raw).group(1)\n",
    "    # print(\"title :\",re.search(r\"<meta\\sproperty=\\\"og:title\\\"\\scontent=\\\"(.*)\\\">\",raw).group(1) )\n",
    "    title = re.search(r\"<meta\\sproperty=\\\"og:title\\\"\\scontent=\\\"(.*)\\\">\",raw).group(1) \n",
    "    # print(\"post time :\",re.search(r\"<span class=\\\"article-meta-tag\\\">時間<\\/span><span class=\\\"article-meta-value\\\">(.*)<\\/span><\\/div>\",raw).group(1) )\n",
    "    post_time = re.search(r\"<span class=\\\"article-meta-tag\\\">時間<\\/span><span class=\\\"article-meta-value\\\">(.*)<\\/span><\\/div>\",raw).group(1) \n",
    "    # print(\"IP :\",re.search(r\"<span class=\\\"f2\\\">※ 發信站: 批踢踢實業坊\\(ptt\\.cc\\),\\s+來自:\\s+(\\d+\\.\\d+\\.\\d+\\.\\d+)\\s+\\(.*\\)\",raw).group(1) )\n",
    "    IP = re.search(r\"<span class=\\\"f2\\\">※ 發信站: 批踢踢實業坊\\(ptt\\.cc\\),\\s+來自:\\s+(\\d+\\.\\d+\\.\\d+\\.\\d+)\\s+\\(.*\\)\",raw).group(1)\n",
    "    # print(\"IMG :\",re.search(r\"<div class=\\\"richcontent\\\"><img src=\\\"(.*)\\\" alt=\\\"\\\" loading=\\\"lazy\\\" />\",raw).group(1) )\n",
    "    try:\n",
    "        IMG = re.search(r\"<div class=\\\"richcontent\\\"><img src=\\\"(.*)\\\" alt=\\\"\\\" loading=\\\"lazy\\\" />\",raw).group(1)\n",
    "    except:\n",
    "        IMG = \"NO Image\"\n",
    "    # print(str(time.ctime()))\n",
    "\n",
    "    # print(author,title,post_time,IMG,IP,push_cnt,pull_cnt,time.ctime())\n",
    "    return (str(author).strip()+\",\"+str(title).strip()+\",\"+str(post_time).strip()+\",\"\n",
    "    +str(IMG).strip()+\",\"+str(IP).strip()+\",\"+str(push_cnt)+','+str(pull_cnt).strip()+\",\"+str(time.ctime()) )+\"\\n\"\n",
    "\n",
    "\n",
    "\n",
    "# fetchPage(\"/bbs/Beauty/M.1636887390.A.D04.html\")\n"
   ]
  },
  {
   "cell_type": "code",
   "execution_count": 3,
   "metadata": {
    "execution": {
     "iopub.execute_input": "2021-11-14T19:52:02.451578Z",
     "iopub.status.busy": "2021-11-14T19:52:02.451578Z",
     "iopub.status.idle": "2021-11-14T19:52:02.463575Z",
     "shell.execute_reply": "2021-11-14T19:52:02.463575Z"
    }
   },
   "outputs": [],
   "source": [
    "yesterday ={\"month\" : time.localtime(time.time() - 24*60*60).tm_mon,\n",
    "        \"day\":time.localtime(time.time() - 24*60*60).tm_mday}\n",
    "today = {\"month\" : time.localtime(time.time() - 0).tm_mon,\n",
    "        \"day\":time.localtime(time.time() - 0).tm_mday\n",
    "}\n",
    "\n",
    "def DateCmp(M,D):\n",
    "\n",
    "    if(int(M) == int(yesterday[\"month\"])  and int(D)==int(yesterday[\"day\"]) ):\n",
    "        return \"yesterday\"\n",
    "    elif(int(M) == int(today[\"month\"])  and int(D)==int(today[\"day\"]) ):\n",
    "        return \"today\"\n",
    "    return \"out\"\n",
    "\n",
    "\n",
    "keepFetchBulltin = True\n"
   ]
  },
  {
   "cell_type": "code",
   "execution_count": 4,
   "metadata": {
    "execution": {
     "iopub.execute_input": "2021-11-14T19:52:02.466577Z",
     "iopub.status.busy": "2021-11-14T19:52:02.466577Z",
     "iopub.status.idle": "2021-11-14T19:52:04.203228Z",
     "shell.execute_reply": "2021-11-14T19:52:04.203228Z"
    }
   },
   "outputs": [],
   "source": [
    "output =\"作者,標題,時間,第一張圖片網址,po文IP,推文總數,噓文總數,上爬蟲爬取之時間\\n\"\n",
    "\n",
    "while (keepFetchBulltin):\n",
    "    # print(lastBulletin)\n",
    "    conn.request(\"GET\", \"/bbs/Beauty/index\"+str(lastBulletin)+\".html?=\", payload, headers)\n",
    "    raw = conn.getresponse().read().decode(\"utf-8\")\n",
    "    raw = raw[:raw.find(\"r-list-sep\")]\n",
    "\n",
    "    regex = r\"<div.*class=\\\"r-ent\\\">(\\n.*?)*<div.*class=\\\"mark\\\">.*<\\/div>(\\n.*?)*<\\/div>(\\n.*?)*<\\/div>\"\n",
    "\n",
    "    matches = re.finditer(regex, raw, re.MULTILINE)\n",
    "    for matchNum, match in enumerate(matches, start=1):\n",
    "        # print(match.group())\n",
    "        articleDate = re.search(r\"<div class=\\\"date\\\">(\\d+)/(\\d+)</div>\",match.group())\n",
    "        # print(\"Date :\", articleDate.group(1),\"/\",articleDate.group(2))\n",
    "        # print(\"title :\",re.search(r\"<a\\s+href=\\\"(.*)\\\">(.*)</a>\",match.group()).group(0))\n",
    "\n",
    "        if(DateCmp(articleDate.group(1),articleDate.group(2)) == \"yesterday\"):\n",
    "            output += fetchPage(re.search(r\"<a\\s+href=\\\"(.*)\\\">(.*)</a>\",match.group()).group(1))\n",
    "        \n",
    "        if(DateCmp(articleDate.group(1),articleDate.group(2)) == \"out\"):\n",
    "            keepFetchBulltin = False\n",
    "\n",
    "    lastBulletin -=1\n",
    "\n",
    "\n",
    "\n",
    "\n"
   ]
  },
  {
   "cell_type": "code",
   "execution_count": 5,
   "metadata": {
    "execution": {
     "iopub.execute_input": "2021-11-14T19:52:04.205227Z",
     "iopub.status.busy": "2021-11-14T19:52:04.205227Z",
     "iopub.status.idle": "2021-11-14T19:52:04.217663Z",
     "shell.execute_reply": "2021-11-14T19:52:04.218664Z"
    }
   },
   "outputs": [
    {
     "name": "stdout",
     "output_type": "stream",
     "text": [
      "作者,標題,時間,第一張圖片網址,po文IP,推文總數,噓文總數,上爬蟲爬取之時間\n",
      "HarunaOno (Scandal最高),[正妹] 47都道府縣代表女演員,Sun Nov 14 00:05:23 2021,https://cache.ptt.cc/c/https/i.imgur.com/5gFbWCsl.jpg?e=1637036591&amp;s=3giCqnvu3o4bHQ5AbG4PcQ,42.77.25.22,53,4,Mon Nov 15 03:52:02 2021\n",
      "makilaifan (TS1989),[正妹] 篠崎泫,Sun Nov 14 00:06:52 2021,https://cache.ptt.cc/c/https/i.imgur.com/7Sl8n7Ql.jpg?e=1637077528&amp;s=ESiyNZGPBWwW9ROVY_Po1A,106.107.219.99,70,6,Mon Nov 15 03:52:02 2021\n",
      "apexi6031 (),[正妹] 左還是右?,Sun Nov 14 00:42:01 2021,https://cache.ptt.cc/c/https/i.imgur.com/H1QUmQ8l.jpg?e=1637023821&amp;s=UVw_yEEe0iT_P0Hptaz45A,114.42.190.87,5,6,Mon Nov 15 03:52:02 2021\n",
      "playerunknow (SuA),[正妹] 想去圖書館惹,Sun Nov 14 13:47:14 2021,https://cache.ptt.cc/c/https/i.imgur.com/Rms34mgl.jpg?e=1637087709&amp;s=aqsnHBuBiFlawZb33MelLw,1.170.217.118,40,5,Mon Nov 15 03:52:03 2021\n",
      "showwin (世界一か? 死か?),[神人] 神這位+9,Sun Nov 14 15:03:58 2021,NO Image,114.25.104.224,2,0,Mon Nov 15 03:52:03 2021\n",
      "ckpot (ckpot_plussizetw),[正妹] 大尺碼｜肉特(A120),Sun Nov 14 17:52:10 2021,https://cache.ptt.cc/c/https/i.imgur.com/XNB0lDdl.jpg?e=1637056436&amp;s=prnxmLtPFKr1FNGIZpbA1Q,223.136.200.10,1,0,Mon Nov 15 03:52:03 2021\n",
      "swijer (JIAJI),[神人] 跪求神這位,Sun Nov 14 17:54:04 2021,https://cache.ptt.cc/c/https/i.imgur.com/U7wOIKul.jpg?e=1637043377&amp;s=Cquosi_KGD90jUYpFx_FrA,114.45.83.10,1,0,Mon Nov 15 03:52:03 2021\n",
      "ClownT (克朗),[神人] 大嘻哈時代 女觀眾,Sun Nov 14 18:56:28 2021,https://imgur.com/omHCEe6.jpg,1.164.144.110,12,6,Mon Nov 15 03:52:03 2021\n",
      "iupac0514 (窩顆顆),[神人]  某手遊廣告內的OL,Sun Nov 14 20:02:39 2021,https://cache.ptt.cc/c/https/i.imgur.com/57QMJtpl.jpg?e=1637032660&amp;s=C_c6B-bmM68l7MhezA14ZQ,42.72.37.35,1,1,Mon Nov 15 03:52:03 2021\n",
      "ReiKuromiya (ReiKuromiya),[正妹] 南韓,Sun Nov 14 20:09:54 2021,https://imgur.com/RhsxfM0.gif,49.216.186.41,16,0,Mon Nov 15 03:52:03 2021\n",
      "ReiKuromiya (ReiKuromiya),[正妹] 南韓,Sun Nov 14 20:13:30 2021,https://imgur.com/2h8a8Wo.gif,49.216.186.41,0,0,Mon Nov 15 03:52:03 2021\n",
      "ReiKuromiya (ReiKuromiya),[正妹] 南韓,Sun Nov 14 20:25:16 2021,https://imgur.com/h80rB4o.gif,49.216.186.41,2,0,Mon Nov 15 03:52:03 2021\n",
      "HarunaOno (Scandal最高),[正妹] 智孝最新短髮造型,Sun Nov 14 22:44:10 2021,https://cache.ptt.cc/c/https/i.imgur.com/AJuyRikl.jpg?e=1637071241&amp;s=Id2ryNqiXmP26Jh6qezr1w,42.77.25.22,10,2,Mon Nov 15 03:52:03 2021\n",
      "justin21138 (丞相),[神人] 這位睡衣女主角是誰？,Sun Nov 14 23:38:38 2021,https://cache.ptt.cc/c/https/i.imgur.com/wpOKLvxl.jpg?e=1637055113&amp;s=XedLjFlBmojMhl6WeZua2Q,123.192.148.183,0,0,Mon Nov 15 03:52:04 2021\n",
      "playerunknow (SuA),[正妹] Bambino 恩率.gif,Sun Nov 14 23:57:55 2021,https://cache.ptt.cc/c/https/i.imgur.com/PUvOoOSl.gif?e=1637060300&amp;s=wImUIiPVGNRyw5E65o2Ezw,120.107.188.16,11,0,Mon Nov 15 03:52:04 2021\n",
      "\n"
     ]
    }
   ],
   "source": [
    "print(output)\n",
    "with open(\"ptt_beauty_big5.csv\",\"w\",encoding='Big5') as file:\n",
    "    file.write(output)\n",
    "\n",
    "with open(\"ptt_beauty_utf-8.csv\",\"w\",encoding='utf-8') as file:\n",
    "    file.write(output)"
   ]
  },
  {
   "cell_type": "code",
   "execution_count": null,
   "metadata": {},
   "outputs": [],
   "source": []
  },
  {
   "cell_type": "code",
   "execution_count": null,
   "metadata": {},
   "outputs": [],
   "source": []
  }
 ],
 "metadata": {
  "interpreter": {
   "hash": "d8a265d58268fc82dffe7ecb61fc57c8e1c6d6787d8b637cc4d52663ae128e42"
  },
  "kernelspec": {
   "display_name": "Python 3.6.13 64-bit ('crawler': conda)",
   "language": "python",
   "name": "python3"
  },
  "language_info": {
   "codemirror_mode": {
    "name": "ipython",
    "version": 3
   },
   "file_extension": ".py",
   "mimetype": "text/x-python",
   "name": "python",
   "nbconvert_exporter": "python",
   "pygments_lexer": "ipython3",
   "version": "3.6.13"
  }
 },
 "nbformat": 4,
 "nbformat_minor": 2
}
